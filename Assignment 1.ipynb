{
 "cells": [
  {
   "cell_type": "code",
   "execution_count": null,
   "id": "03e862a4-2829-4fa9-9e06-8751755a3006",
   "metadata": {},
   "outputs": [],
   "source": [
    "Q1.Who developed python programing language?\n",
    "ans - \"Guido van Rossum\" ,When he began implementing Python, Guido van Rossum was also reading the published scripts from “Monty Python's Flying Circus”, a BBC comedy series from the 1970s. Van Rossum thought he needed a name that was short, unique, and slightly mysterious, so he decided to call the language Python."
   ]
  },
  {
   "cell_type": "code",
   "execution_count": null,
   "id": "439b2c5f-afb1-4fd7-8d34-a89a8eece843",
   "metadata": {},
   "outputs": [],
   "source": [
    "Q2.Which type of programming does python support?\n",
    "ans - Python is a multi-paradigm programming language. Object-oriented programming and structured programming are fully supported, and many of their features support functional programming and aspect-oriented programming (including metaprogramming and metaobjects)"
   ]
  },
  {
   "cell_type": "code",
   "execution_count": null,
   "id": "1a398e98-5fd5-4b1b-a556-107b3477953c",
   "metadata": {},
   "outputs": [],
   "source": [
    "Q3.Is python case sensetive when dealing with identifiers?\n",
    "ans - Yes,It is case sensitive when dealing with identifiers."
   ]
  },
  {
   "cell_type": "code",
   "execution_count": null,
   "id": "e9d0fbca-25df-4f13-97bb-c24e199e35e5",
   "metadata": {},
   "outputs": [],
   "source": [
    "Q4.What is the correct extension of python file?\n",
    "ans - The correct extension of python is .py and can be written in any text editor. We need to use the extension .py to save these files."
   ]
  },
  {
   "cell_type": "code",
   "execution_count": null,
   "id": "e592f6d2-29b2-44f2-8880-7c3818cf71de",
   "metadata": {},
   "outputs": [],
   "source": [
    "Q5.Is python code compiled or interpreted?\n",
    "ans - Neither python code is compiled or interpreted."
   ]
  },
  {
   "cell_type": "code",
   "execution_count": null,
   "id": "5088c49b-c56b-4ac6-a3b7-0f6f7df62fcb",
   "metadata": {},
   "outputs": [],
   "source": [
    "Q6.Name a few blocks of code used to define in python language?\n",
    "ans - a module, a function body, and a class definition are few blocks of code used to define in python language. Each command typed interactively is a block. A script file (a file given as standard input to the interpreter or specified as a command line argument to the interpreter) is a code block."
   ]
  },
  {
   "cell_type": "code",
   "execution_count": null,
   "id": "9505e59d-74be-4977-9344-b776d13685ca",
   "metadata": {},
   "outputs": [],
   "source": [
    "Q7.State a character used to give a single-line comments in python?\n",
    "ans - In Python, we use the hash symbol # to write a single-line comment."
   ]
  },
  {
   "cell_type": "code",
   "execution_count": null,
   "id": "0c020a88-a79d-47b8-9097-e2bf9805c722",
   "metadata": {},
   "outputs": [],
   "source": [
    "Q8.Mention functions which can help us to find the version of python that we are currently working on?\n",
    "ans - The function sys.version can help us to find the version of python that we are currently working on."
   ]
  },
  {
   "cell_type": "code",
   "execution_count": null,
   "id": "81ae34af-1806-43ce-93de-2ef7221ea435",
   "metadata": {},
   "outputs": [],
   "source": [
    "Q9.Python supports the creation of anonymous functions at runtime,using a construct called....?\n",
    "ans - python supports the creation of anonymous functions (i.e. functions that are not bound to a name) at runtime, using a construct called lambda. lambda functions are restricted to a single expression. they can be used wherever normal functions can be used."
   ]
  },
  {
   "cell_type": "code",
   "execution_count": null,
   "id": "ae14d042-a2ce-4e51-b0c9-f04b7899b5c4",
   "metadata": {},
   "outputs": [],
   "source": [
    "Q10.What does pip stand for python?\n",
    "ans - PIP stands for \"Pip Installs Packages\" and is a package management system used to install and manage software packages written in Python."
   ]
  },
  {
   "cell_type": "code",
   "execution_count": null,
   "id": "5ee0a62d-8dd3-4d52-ba65-c91b1b95e966",
   "metadata": {},
   "outputs": [],
   "source": [
    "Q11.Mention a few built-in functions in python?\n",
    "ans - few built-in functions of python are :\n",
    "print( ) function\n",
    "type( ) function\n",
    "input( ) function\n",
    "abs( ) function\n",
    "pow( ) function\n",
    "dir( ) function\n",
    "sorted( ) function\n",
    "max( ) function\n",
    "round( ) function\n",
    "divmod( ) function\n",
    "id( ) function\n",
    "ord( ) function\n",
    "len( ) function."
   ]
  },
  {
   "cell_type": "code",
   "execution_count": null,
   "id": "df7cc11c-52a0-4cb3-aea8-e0a836d64adb",
   "metadata": {},
   "outputs": [],
   "source": [
    "Q12.What is the maximum possible length of an identifier in python?\n",
    "ans - An identifier can have a maximum length of 79 characters in Python."
   ]
  },
  {
   "cell_type": "code",
   "execution_count": null,
   "id": "eb5b6828-a8d7-4945-b612-3a101d0f78b3",
   "metadata": {},
   "outputs": [],
   "source": [
    "Q13.What are the benefits of using python?\n",
    "ans -the benefits of using python are :\n",
    "1.Presence of third-party modules \n",
    "2.Extensive support libraries(NumPy for numerical calculations, Pandas for data analytics, etc.) \n",
    "3.Open source and large active community base \n",
    "4.Versatile, Easy to read, learn and write\n",
    "5.User-friendly data structures \n",
    "6.High-level language \n",
    "7.Dynamically typed language(No need to mention data type based on the value assigned, it takes data type) \n",
    "8.Object-Oriented and Procedural  Programming language\n",
    "9.Portable and Interactive\n",
    "10.Ideal for prototypes – provide more functionality with less coding\n",
    "11.Highly Efficient(Python’s clean object-oriented design provides enhanced process control, and the language is equipped with excellent text processing and integration capabilities, as well as its own unit testing framework, which makes it more efficient.)\n",
    "12.Internet of Things(IoT) Opportunities\n",
    "13.Interpreted Language\n",
    "14.Portable across Operating systems."
   ]
  },
  {
   "cell_type": "code",
   "execution_count": null,
   "id": "3f5dac56-39ac-4782-938c-d8b661b4f072",
   "metadata": {},
   "outputs": [],
   "source": [
    "Q14.How is memory managed in python?\n",
    "ans - Memory management in Python involves a private heap containing all Python objects and data structures. Interpreter takes care of Python heap and that the programmer has no access to it.\n",
    "- The allocation of heap space for Python objects is done by Python memory manager. The core API of Python provides some tools for the programmer to code reliable and more robust program.\n",
    "- Python also has a build-in garbage collector which recycles all the unused memory. When an object is no longer referenced by the program, the heap space it occupies can be freed. The garbage collector determines objects which are no longer referenced by the sprogram frees the occupied memory and make it available to the heap space.\n",
    "- The gc module defines functions to enable /disable garbage collector:\n",
    "gc.enable() -Enables automatic garbage collection.\n",
    "gc.disable() - Disables automatic garbage collection."
   ]
  },
  {
   "cell_type": "code",
   "execution_count": null,
   "id": "a5271e6f-8d97-4bec-a75c-f36d5417ec47",
   "metadata": {},
   "outputs": [],
   "source": [
    "Q15.How to install python on windows and set path variables?\n",
    "ans - Install python from this link https://www.python.org/downloads/\n",
    "After this, install it on your PC. Look for the location where PYTHON has been installed on your PC using tge following command on your command prompt: cmd python.\n",
    "Then go to advanced system settings and add new variable and name it as PYTHON_NAME and paste the copied path.\n",
    "Then look for the path variable, select it's value and select edit\n",
    "Add a semicolon towards the end of the value if it's not present and then type %PYTHON_HOME%"
   ]
  },
  {
   "cell_type": "code",
   "execution_count": null,
   "id": "eb2aade4-8392-49af-b9bd-56467ec32fab",
   "metadata": {},
   "outputs": [],
   "source": [
    "Q16.Is indentation required in python?\n",
    "ans - "
   ]
  }
 ],
 "metadata": {
  "kernelspec": {
   "display_name": "Python 3 (ipykernel)",
   "language": "python",
   "name": "python3"
  },
  "language_info": {
   "codemirror_mode": {
    "name": "ipython",
    "version": 3
   },
   "file_extension": ".py",
   "mimetype": "text/x-python",
   "name": "python",
   "nbconvert_exporter": "python",
   "pygments_lexer": "ipython3",
   "version": "3.10.8"
  }
 },
 "nbformat": 4,
 "nbformat_minor": 5
}
