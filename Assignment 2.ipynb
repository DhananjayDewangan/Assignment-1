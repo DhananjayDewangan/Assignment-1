{
 "cells": [
  {
   "cell_type": "code",
   "execution_count": 31,
   "id": "d7842d7f-5f34-4fbe-81c2-10f7a3d32626",
   "metadata": {},
   "outputs": [
    {
     "name": "stdin",
     "output_type": "stream",
     "text": [
      "Enter your Percentage - 95\n"
     ]
    },
    {
     "name": "stdout",
     "output_type": "stream",
     "text": [
      "You got Grade 'A'\n"
     ]
    }
   ],
   "source": [
    "# Q1.Write a program to accept percentage from the user and display the grade according to the following criteria :\n",
    "# ans -\n",
    "\n",
    "Percentage = int(input(\"Enter your Percentage -\"))\n",
    "if Percentage > 90 :\n",
    "    print(\"You got Grade 'A'\")\n",
    "elif Percentage > 80 and Percentage <= 90 :\n",
    "    print(\"You got Grade 'B'\")\n",
    "elif Percentage >= 60 and Percentage <= 80 :\n",
    "    print(\"You got Grade'C'\")\n",
    "else :\n",
    "    print(\"You got Grade 'D'\",\"Focus on your studies\")"
   ]
  },
  {
   "cell_type": "code",
   "execution_count": 32,
   "id": "e524e8f2-094d-42fd-9ccb-07d63890f02a",
   "metadata": {},
   "outputs": [
    {
     "name": "stdin",
     "output_type": "stream",
     "text": [
      "Enter the Cost Price of a Bike - 75000\n"
     ]
    },
    {
     "name": "stdout",
     "output_type": "stream",
     "text": [
      "You have to pay '10%' road tax\n"
     ]
    }
   ],
   "source": [
    "# Q2. Write a program to accept the cost price of a bike and display the road tax to be paid according to the following criteria :\n",
    "# ans- \n",
    "\n",
    "Cost_Price = int(input(\"Enter the Cost Price of a Bike -\"))\n",
    "if Cost_Price > 100000 :\n",
    "    print(\"You have to pay '15%' road tax\")\n",
    "elif Cost_Price > 50000 and Cost_Price <= 100000 :\n",
    "    print(\"You have to pay '10%' road tax\")\n",
    "elif Cost_Price <= 50000 :\n",
    "    print(\"You have to pay'5%' road tax\")"
   ]
  },
  {
   "cell_type": "code",
   "execution_count": 35,
   "id": "dc98a8c3-8148-41cb-ab70-df533333b475",
   "metadata": {},
   "outputs": [
    {
     "name": "stdin",
     "output_type": "stream",
     "text": [
      "Enter your city Name - Agra\n"
     ]
    },
    {
     "name": "stdout",
     "output_type": "stream",
     "text": [
      "'Taj Mahal' is the monument of your city\n"
     ]
    }
   ],
   "source": [
    "# Q3.Accept any city from the user and display monuments of that city.\n",
    "# ans-\n",
    "\n",
    "City_Name = input(\"Enter your city Name -\")\n",
    "if City_Name == \"Delhi\" :\n",
    "    print(\"'Red Fort' is the monument of your city\")\n",
    "elif City_Name == \"Agra\" :\n",
    "    print(\"'Taj Mahal' is the monument of your city\")\n",
    "elif City_Name == \"Jaipur\" :\n",
    "    print(\"'Jai Mahal' is the monument of your city\")"
   ]
  },
  {
   "cell_type": "code",
   "execution_count": 39,
   "id": "54058f83-d4e5-4b6d-9b91-d25a8352dbd6",
   "metadata": {},
   "outputs": [
    {
     "name": "stdin",
     "output_type": "stream",
     "text": [
      "Enter the number - 180\n"
     ]
    },
    {
     "name": "stdout",
     "output_type": "stream",
     "text": [
      "Total iteration required 3\n"
     ]
    }
   ],
   "source": [
    "# Q4.Check how many times a given number can be devided by 3 before it is less than or equal to 10.\n",
    "# ans -\n",
    "\n",
    "count = 0\n",
    "number = int(input(\"Enter the number -\"))\n",
    "if number < 0 :\n",
    "    print(\"Wrong input,Give a Positive number\")\n",
    "while number > 10:\n",
    "    # divide number by 3\n",
    "    number = number / 3\n",
    "    # increase count\n",
    "    count = count + 1\n",
    "print('Total iteration required', count)\n",
    "\n",
    "# Note :  the total iteration will vary depending on the number. when a number of iteration is not fixed always use the while loop."
   ]
  },
  {
   "cell_type": "code",
   "execution_count": 42,
   "id": "63e83232-878e-400f-ba4b-1bc70d7efdcc",
   "metadata": {},
   "outputs": [
    {
     "name": "stdout",
     "output_type": "stream",
     "text": [
      "The sum of squares is 1240\n"
     ]
    }
   ],
   "source": [
    "\"\"\"Q5.Why and When to use while loop in python give a detailed description with example.\n",
    "\n",
    "ans - Python While Loop is used to execute a block of statements repeatedly until a given condition is satisfied.\n",
    "      And when the condition becomes false, the line immediately after the loop in the program is executed.\n",
    "\n",
    "Syntax: \n",
    "\n",
    "while expression:\n",
    "    statement(s)\n",
    "    \n",
    "While loop falls under the category of indefinite iteration. Indefinite iteration means that the number of times the loop is executed \n",
    "isn’t specified explicitly in advance.Statements represent all the statements indented by the same number of character spaces after a \n",
    "programming construct are considered to be part of a single block of code. Python uses indentation as its method of grouping statements. \n",
    "When a while loop is executed, expr is first evaluated in a Boolean context and if it is true, the loop body is executed. Then the expr is \n",
    "checked again, if it is still true then the body is executed again and this continues until the expression becomes false.\"\"\"\n",
    "\n",
    "# Python program example to show the use of while loop   \n",
    "  \n",
    "num = 15  \n",
    "  \n",
    "# initializing summation and a counter for iteration  \n",
    "summation = 0  \n",
    "c = 1  \n",
    "  \n",
    "while c <= num: # specifying the condition of the loop  \n",
    "    # begining the code block  \n",
    "    summation = c**2 + summation  \n",
    "    c = c + 1    # incrementing the counter  \n",
    "  \n",
    "# print the final sum  \n",
    "print(\"The sum of squares is\", summation)  \n",
    "\n"
   ]
  },
  {
   "cell_type": "code",
   "execution_count": null,
   "id": "6f9cbb0e-1f34-46b8-9ae2-3e52b02f8db0",
   "metadata": {},
   "outputs": [],
   "source": [
    "\"\"\" Q6.Use nested while loop to print 3 different patterns.\n",
    "ans- Nested-Loops help to solve printing pattern problems.\n",
    "     We basically have an outer-loop nested within an inner-loop.\n",
    "     \n",
    "We will look into some of the printing patterns given below.\"\"\"\n",
    "#Syntax of nested-for loop:\n",
    "\n",
    "for(initialization;condition;updation)\n",
    "{\n",
    "for(initialization;condition;updation)\n",
    "{\n",
    "// inner-loop staments\n",
    "}\n",
    "// outer-loop statements\n",
    "}\n",
    "\n",
    "\"\"\"Explanation :\n",
    "-To work with these patterns it is important to understand the looping variable condition applied to it.\n",
    "-We consider the outer loop for running it the necessary number of times, and the inner loop is used to print the pattern.\"\"\"\n"
   ]
  },
  {
   "cell_type": "code",
   "execution_count": 47,
   "id": "ac99c64d-9b9d-4a01-bbe3-e7e17909e8fd",
   "metadata": {},
   "outputs": [
    {
     "name": "stdin",
     "output_type": "stream",
     "text": [
      "Enter number of rows :  4\n"
     ]
    },
    {
     "name": "stdout",
     "output_type": "stream",
     "text": [
      "* \n",
      "* * \n",
      "* * * \n",
      "* * * * \n"
     ]
    }
   ],
   "source": [
    "#Q6.Pattern-1\n",
    "n = int(input('Enter number of rows : '))\n",
    " \n",
    "i = 1\n",
    "while i <= n :\n",
    "    j = 1\n",
    "    while j <= i:\n",
    "        print(\"*\", end = \" \")\n",
    "        j += 1\n",
    "    print()\n",
    "    i += 1\n"
   ]
  },
  {
   "cell_type": "code",
   "execution_count": 48,
   "id": "8a93e1c9-5bc0-43f3-ba0f-135c2e0792bf",
   "metadata": {},
   "outputs": [
    {
     "name": "stdin",
     "output_type": "stream",
     "text": [
      "Enter number of rows :  6\n"
     ]
    },
    {
     "name": "stdout",
     "output_type": "stream",
     "text": [
      "* * * * * * \n",
      "* * * * * \n",
      "* * * * \n",
      "* * * \n",
      "* * \n",
      "* \n"
     ]
    }
   ],
   "source": [
    "#Q6.Pattern-2\n",
    "n = int(input('Enter number of rows : '))\n",
    " \n",
    "i = 1\n",
    "while i <= n :\n",
    "    j = n\n",
    "    while j >= i:\n",
    "        print(\"*\", end = \" \")\n",
    "        j -= 1\n",
    "    print()\n",
    "    i += 1"
   ]
  },
  {
   "cell_type": "code",
   "execution_count": 50,
   "id": "76c11536-03f8-43aa-bb58-1b00bd78ec68",
   "metadata": {},
   "outputs": [
    {
     "name": "stdin",
     "output_type": "stream",
     "text": [
      "Enter number of rows :  6\n"
     ]
    },
    {
     "name": "stdout",
     "output_type": "stream",
     "text": [
      "  1 \n",
      "  2   3 \n",
      "  4   5   6 \n",
      "  7   8   9  10 \n",
      " 11  12  13  14  15 \n",
      " 16  17  18  19  20  21 \n"
     ]
    }
   ],
   "source": [
    "#Q6.Pattern-3\n",
    "n = int(input('Enter number of rows : '))\n",
    " \n",
    "k = 1\n",
    "i = 1\n",
    "while i <= n :\n",
    "    j = 1\n",
    "    while j <= i:\n",
    "        print(\"{:3d}\".format(k), end = \" \")\n",
    "        j += 1\n",
    "        k += 1\n",
    "    print()\n",
    "    i += 1"
   ]
  },
  {
   "cell_type": "code",
   "execution_count": 52,
   "id": "911b0025-a3c9-4be5-bf94-81193cdc3370",
   "metadata": {},
   "outputs": [
    {
     "name": "stdout",
     "output_type": "stream",
     "text": [
      "10\n",
      "9\n",
      "8\n",
      "7\n",
      "6\n",
      "5\n",
      "4\n",
      "3\n",
      "2\n",
      "1\n"
     ]
    }
   ],
   "source": [
    "# Q7.Reverse a while loop to display numbers from 10 to 1.\n",
    "# ans-\n",
    "i = 10 \n",
    "while i > 0: \n",
    "  print(i) \n",
    "  i -= 1"
   ]
  },
  {
   "cell_type": "code",
   "execution_count": null,
   "id": "3f6376bc-f526-48c2-9faa-f8ec038875cd",
   "metadata": {},
   "outputs": [],
   "source": [
    "# Q8.Reverse a while loop to display numbers from 10 to 1.\n",
    "# ans-\n"
   ]
  }
 ],
 "metadata": {
  "kernelspec": {
   "display_name": "Python 3 (ipykernel)",
   "language": "python",
   "name": "python3"
  },
  "language_info": {
   "codemirror_mode": {
    "name": "ipython",
    "version": 3
   },
   "file_extension": ".py",
   "mimetype": "text/x-python",
   "name": "python",
   "nbconvert_exporter": "python",
   "pygments_lexer": "ipython3",
   "version": "3.10.8"
  }
 },
 "nbformat": 4,
 "nbformat_minor": 5
}
